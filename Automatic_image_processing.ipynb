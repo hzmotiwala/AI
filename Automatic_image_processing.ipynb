{
 "cells": [
  {
   "cell_type": "markdown",
   "metadata": {},
   "source": [
    "## Overview\n",
    "\n",
    "Automatic image processing is a key component to many AI systems, including facial recognition and video compression, instance segmentation of images and point cloud data. One basic method for processing is segmentation, by which we divide an image into a fixed number of components in order to simplify its representation. For example, we can train a mixture of Gaussians to represent an image.\n",
    "\n",
    "In this assignment, you will learn to perform image compression and point cloud segmentation. To this end, you will implement Gaussian mixture models and iteratively improve their performance. First you will perform segmentation on the \"Bird\" (`bird_color_24.png`) and at the end run your algorithm on 3D point cloud data.\n",
    "\n",
    "\n",
    "1. Implement k-means clustering to segment a color image.\n",
    "\n",
    "2. Familiarize yourself with the algorithm by running it on simple dataset.\n",
    "\n",
    "3. Build a Gaussian mixture model to be trained with expectation-maximization.\n",
    "\n",
    "4. Experiment with varying the details of the Gaussian mixture model’s implementation.\n",
    "\n",
    "5. Implement and test a new metric called the Bayesian information criterion, which guarantees a more robust image segmentation.\n",
    "\n"
   ]
  },
  {
   "cell_type": "markdown",
   "metadata": {},
   "source": [
    "## Part 1: K-means Clustering\n",
    "\n",
    "One easy method for image segmentation is to simply cluster all similar data points together and then replace their values with the mean value. Thus, we'll warm up using k-means clustering. This will also provide a baseline to compare with your segmentation. \n"
   ]
  },
  {
   "cell_type": "code",
   "execution_count": 1,
   "metadata": {},
   "outputs": [
    {
     "name": "stderr",
     "output_type": "stream",
     "text": [
      "C:\\Users\\zm988w\\AppData\\Local\\Continuum\\anaconda3\\lib\\site-packages\\IPython\\html.py:14: ShimWarning: The `IPython.html` package has been deprecated since IPython 4.0. You should import from `notebook` instead. `IPython.html.widgets` has moved to `ipywidgets`.\n",
      "  \"`IPython.html.widgets` has moved to `ipywidgets`.\", ShimWarning)\n"
     ]
    }
   ],
   "source": [
    "%load_ext autoreload\n",
    "%autoreload 2\n",
    "# Run this cell and check if you have all necessary modules\n",
    "from IPython.html.widgets import *\n",
    "import mixture_tests as tests\n",
    "import matplotlib.pyplot as plt\n",
    "import os\n",
    "import numpy as np\n",
    "from helper_functions import *\n",
    "# Please don't modify this cell"
   ]
  },
  {
   "cell_type": "code",
   "execution_count": 2,
   "metadata": {
    "deletable": false,
    "editable": false,
    "tags": [
     "graded"
    ]
   },
   "outputs": [
    {
     "ename": "ModuleNotFoundError",
     "evalue": "No module named '__main__.helper_functions'; '__main__' is not a package",
     "output_type": "error",
     "traceback": [
      "\u001b[1;31m---------------------------------------------------------------------------\u001b[0m",
      "\u001b[1;31mModuleNotFoundError\u001b[0m                       Traceback (most recent call last)",
      "\u001b[1;32m<ipython-input-2-d1de462b8dc5>\u001b[0m in \u001b[0;36m<module>\u001b[1;34m\u001b[0m\n\u001b[0;32m      2\u001b[0m \u001b[1;31m# IF YOU ACCIDENTALL RUN IT, IT'S OK, YOU CAN IGNORE THE ERRORS\u001b[0m\u001b[1;33m\u001b[0m\u001b[1;33m\u001b[0m\u001b[1;33m\u001b[0m\u001b[0m\n\u001b[0;32m      3\u001b[0m \u001b[1;32mimport\u001b[0m \u001b[0mnumpy\u001b[0m \u001b[1;32mas\u001b[0m \u001b[0mnp\u001b[0m\u001b[1;33m\u001b[0m\u001b[1;33m\u001b[0m\u001b[0m\n\u001b[1;32m----> 4\u001b[1;33m \u001b[1;32mfrom\u001b[0m \u001b[1;33m.\u001b[0m\u001b[0mhelper_functions\u001b[0m \u001b[1;32mimport\u001b[0m \u001b[1;33m*\u001b[0m\u001b[1;33m\u001b[0m\u001b[1;33m\u001b[0m\u001b[0m\n\u001b[0m",
      "\u001b[1;31mModuleNotFoundError\u001b[0m: No module named '__main__.helper_functions'; '__main__' is not a package"
     ]
    }
   ],
   "source": [
    "# DON'T RUN THIS CELL IT WILL THROW AN ERROR\n",
    "# IF YOU ACCIDENTALL RUN IT, IT'S OK, YOU CAN IGNORE THE ERRORS\n",
    "import numpy as np\n",
    "from .helper_functions import *"
   ]
  },
  {
   "cell_type": "code",
   "execution_count": 3,
   "metadata": {
    "tags": [
     "graded"
    ]
   },
   "outputs": [
    {
     "name": "stdout",
     "output_type": "stream",
     "text": [
      "UnitTest passed successfully!\n"
     ]
    }
   ],
   "source": [
    "#import random\n",
    "def get_initial_means(array, k):\n",
    "    \"\"\"\n",
    "    Picks k random points from the 2D array \n",
    "    (without replacement) to use as initial \n",
    "    cluster means\n",
    "\n",
    "    params:\n",
    "    array = numpy.ndarray[numpy.ndarray[float]] - m x n | datapoints x features\n",
    "\n",
    "    k = int\n",
    "\n",
    "    returns:\n",
    "    initial_means = numpy.ndarray[numpy.ndarray[float]]\n",
    "    \"\"\"\n",
    "    \n",
    "        \n",
    "    list_len = array.shape[0] # number rows in data\n",
    "    random_list = np.random.choice(list_len, k, replace=False) # list of elements to sample\n",
    "    initial_means = array[[random_list]]\n",
    "    \n",
    "    return initial_means \n",
    "          \n",
    "########## DON'T WRITE ANY CODE OUTSIDE THE FUNCTION! ################\n",
    "##### CODE BELOW IS USED FOR RUNNING LOCAL TEST DON'T MODIFY IT ######\n",
    "tests.K_means_test().test_initial_means(get_initial_means)\n",
    "################ END OF LOCAL TEST CODE SECTION ######################"
   ]
  },
  {
   "cell_type": "code",
   "execution_count": 4,
   "metadata": {
    "tags": [
     "graded"
    ]
   },
   "outputs": [
    {
     "name": "stdout",
     "output_type": "stream",
     "text": [
      "UnitTest passed successfully!\n"
     ]
    }
   ],
   "source": [
    "def k_means_step(X, k, means):\n",
    "    \"\"\"\n",
    "    A single update/step of the K-means algorithm\n",
    "    Based on a input X and current mean estimate\n",
    "    calculate new means and predict clusters for each of the pixel\n",
    "    params:\n",
    "    X = numpy.ndarray[numpy.ndarray[float]] - m x n | pixels x features (already flattened)\n",
    "    k = int\n",
    "    means = numpy.ndarray[numpy.ndarray[float]] - k x n\n",
    "\n",
    "    returns:\n",
    "    new_means = numpy.ndarray[numpy.ndarray[float]] - k x n\n",
    "    clusters = numpy.ndarray[int] - m sized vector\n",
    "    \"\"\"\n",
    "\n",
    "    #calculate the euclidean distance for each initial mean\n",
    "    eucs=[]\n",
    "    for i in range(k):\n",
    "        mean = means[i]\n",
    "        eucl_mean = np.linalg.norm(X-mean, axis=1)\n",
    "        eucs.append(eucl_mean)\n",
    "    eucs_array=np.array(eucs).T\n",
    "    \n",
    "    # get the element of smallest mean\n",
    "    args = np.argmin(eucs_array,axis = 1)\n",
    "    clusters = args.reshape(-1,1)\n",
    "    \n",
    "    # for each of the cluster values [0,1,2,...k] replace values with the mean values of the smallest mean\n",
    "    new_means = []\n",
    "    for i in range(k):\n",
    "        this_cluster_ids = np.where(clusters[:,0]==i)\n",
    "        this_cluster_rows = X[[this_cluster_ids]]\n",
    "        this_cluster_new_mean = np.mean(this_cluster_rows, axis = 1).flatten()\n",
    "        # in case there is a cluster that has 0 values close to it rewrite nan with 0\n",
    "        this_cluster_new_mean = [0.0 if np.isnan(i) else i for i in this_cluster_new_mean]\n",
    "        new_means.append(this_cluster_new_mean)\n",
    "    \n",
    "    new_means = np.array(new_means)\n",
    "\n",
    "    return new_means, clusters\n",
    "        \n",
    "\n",
    "########## DON'T WRITE ANY CODE OUTSIDE THE FUNCTION! ################\n",
    "##### CODE BELOW IS USED FOR RUNNING LOCAL TEST DON'T MODIFY IT ######\n",
    "tests.K_means_test().test_k_means_step(k_means_step)\n",
    "################ END OF LOCAL TEST CODE SECTION ######################"
   ]
  },
  {
   "cell_type": "markdown",
   "metadata": {},
   "source": [
    "#### K-means - Visualizing the results\n",
    "\n",
    "Now that you are done with the K-means step implementation lets try to visualize what's happening if you repeat these steps multiple times.\n",
    "\n",
    "**You don't need to be implementing anything in the next cells until Image Segmentation Section**, but you are highly encouraged to play with parameters and datasets, to get a sense of what is happening at every algorithm iteration step.\n",
    "\n",
    "Feel free to explore and improve the function below, it will be used for visualizing K-means progress\n",
    "but it's not required and WON'T effect your grade."
   ]
  },
  {
   "cell_type": "code",
   "execution_count": 5,
   "metadata": {},
   "outputs": [],
   "source": [
    "# This cell contains a code for loading a dataset from the `data` folder\n",
    "# Each of these datasets contains synthtic (generated) data\n",
    "# You can simply run this cell for now and come back to it later if you want to make changes\n",
    "# Make sure you implemented everything in cells above and passed the unittests\n",
    "def K_means_2D_dataset(dataset_index, K):\n",
    "    # Load the dataset from data folder\n",
    "    X = np.loadtxt(\"data/%d_dataset_X.csv\" % dataset_index, delimiter=\",\")\n",
    "    #print(\"The dataset is of a size:\", X.shape)\n",
    "\n",
    "    # Load the labels\n",
    "    # Clustering is unsupervised method, where no labels are provided\n",
    "    # However, since we generated the data outselves we know the clusters,\n",
    "    # and load them for illustration purposes.\n",
    "    y = np.int16(np.loadtxt(\"data/%d_dataset_y.csv\" % dataset_index, delimiter=\",\"))\n",
    "\n",
    "    # Feel free to edit the termination condition for the K-means algorithm\n",
    "    # Currently is just runs for n_iterations, before terminating\n",
    "    n_iterations = 10\n",
    "    m,n = X.shape\n",
    "    means = get_initial_means(X,K)\n",
    "    clusters = np.zeros([n])\n",
    "    # keeping track of how clusters and means changed, for visualization purposes\n",
    "    means_history = [means]\n",
    "    clusters_history = [clusters] \n",
    "    #print(\"clusters_history: \", clusters_history)\n",
    "    for iteration_i in range(n_iterations):\n",
    "        means, clusters = k_means_step(X, K, means)\n",
    "        clusters_history.append(clusters)\n",
    "\n",
    "    return X, y, means_history, clusters_history\n",
    "\n",
    "# Things to try:\n",
    "# - Try different initialization to see check initialization robustness\n",
    "# - Improve the termination condition (you will be able to reuse later as well!)\n",
    "# - Try creating you own dataset in the `data/` folder "
   ]
  },
  {
   "cell_type": "code",
   "execution_count": 6,
   "metadata": {},
   "outputs": [
    {
     "data": {
      "application/vnd.jupyter.widget-view+json": {
       "model_id": "3aa091e71dbb4e04989c276bd9a71298",
       "version_major": 2,
       "version_minor": 0
      },
      "text/plain": [
       "interactive(children=(IntSlider(value=5, description='i', max=10, min=1), Output()), _dom_classes=('widget-int…"
      ]
     },
     "metadata": {},
     "output_type": "display_data"
    },
    {
     "data": {
      "image/png": "[encoded data removed]",
      "text/plain": [
       "<Figure size 1080x432 with 1 Axes>"
      ]
     },
     "metadata": {
      "needs_background": "light"
     },
     "output_type": "display_data"
    }
   ],
   "source": [
    "# RUN - TRY DIFFERENT PARAMETERS - REPEAT\n",
    "dataset_index = 2 # for different dataset change it to number from [0,4]\n",
    "K = 5 # Number of clusters - play with this number\n",
    "\n",
    "X, y, means_history, clusters_history = K_means_2D_dataset(dataset_index, K)\n",
    "\n",
    "# This is an interactive cell to see the progress of training your K-means algorithm.\n",
    "# Feel free to improve the visualization code and share it with your classmates on Piazza\n",
    "def get_cluster(i):\n",
    "    clusters = clusters_history[i] # Get the clusters from K-means' i-th iteration\n",
    "    plt.figure(None, figsize=(15,6)) # Set the plot size\n",
    "    plt.suptitle('Drag the slider to see the algorthm training progress')\n",
    "    ax1=plt.subplot(1, 2, 1)\n",
    "    ax1.set_title('K-means clsuters - step %d' % i)\n",
    "    for k in range(K):\n",
    "        plt.plot(X[clusters==k,0], X[clusters==k,1], '.') # \n",
    "        # Try to plot the centers of the clusters \n",
    "        # You can access them by calling means_history[i]\n",
    "        # How could you plot the area that belong to that cluster?\n",
    "\n",
    "    # Just to get a flavour of how the data looks like\n",
    "    ax2=plt.subplot(1, 2, 2)\n",
    "    ax2.set_title('Ground truth clusters')\n",
    "    for i in np.unique(y):\n",
    "        ax2.plot(X[y==i,0],X[y==i,1],'.')\n",
    "\n",
    "    plt.show()\n",
    "\n",
    "interactive(get_cluster, i=(1,len(clusters_history)-1,1))"
   ]
  },
  {
   "cell_type": "markdown",
   "metadata": {},
   "source": [
    "### Image segmentation\n",
    "2D data clustering is all cool and all but now it's time to use K-means for the image compression! \n",
    "\n",
    "The function should return an updated version of the image with the original values replaced with the corresponding cluster values."
   ]
  },
  {
   "cell_type": "code",
   "execution_count": 7,
   "metadata": {
    "tags": [
     "graded"
    ]
   },
   "outputs": [
    {
     "name": "stdout",
     "output_type": "stream",
     "text": [
      "UnitTest passed successfully!\n"
     ]
    }
   ],
   "source": [
    "def k_means_segment(image_values, k=3, initial_means=None):\n",
    "    \"\"\"\n",
    "    Separate the provided RGB values into\n",
    "    k separate clusters using the k-means algorithm,\n",
    "    then return an updated version of the image\n",
    "    with the original values replaced with\n",
    "    the corresponding cluster values.\n",
    "\n",
    "    params:\n",
    "    image_values = numpy.ndarray[numpy.ndarray[numpy.ndarray[float]]] - r x c x ch\n",
    "    k = int\n",
    "    initial_means = numpy.ndarray[numpy.ndarray[float]] or None\n",
    "\n",
    "    returns:\n",
    "    updated_image_values = numpy.ndarray[numpy.ndarray[numpy.ndarray[float]]]\n",
    "    \"\"\"\n",
    "    #raise NotImplementedError()\n",
    "    \n",
    "    debug = False\n",
    "    \n",
    "#     print()\n",
    "#     print(\" -------------- begin ---------\")\n",
    "    \n",
    "    img_values = np.copy(image_values)\n",
    "        \n",
    "    r = img_values.shape[0]\n",
    "    c = img_values.shape[1]\n",
    "    ch = img_values.shape[2]\n",
    "    reshaped = img_values.reshape(r*c,ch)\n",
    "\n",
    "    means_not_converged = True\n",
    "\n",
    "    if initial_means is None:\n",
    "        means = get_initial_means(reshaped, k)\n",
    "    else:\n",
    "        means = initial_means\n",
    "    \n",
    "    #print(\"k\", k)\n",
    "    count = 0\n",
    "    while means_not_converged:\n",
    "        old_means = np.copy(means)\n",
    "        means, clusters = k_means_step(reshaped, k, old_means)\n",
    "        if count > 0:\n",
    "            converged = clusters == clusters_old\n",
    "\n",
    "            if converged.all():\n",
    "                means_not_converged = False\n",
    "        clusters_old = np.copy(clusters)\n",
    "        count = count+1\n",
    "    \n",
    "    # for cluster value, update reshaped value with mean value of closest cluster\n",
    "    clusters = clusters.flatten()\n",
    "    for x in range(len(clusters)):\n",
    "        smallest_distance = clusters[x]\n",
    "        reshaped[x] = means[smallest_distance]\n",
    "\n",
    "    updated_image_values = reshaped.reshape(r,c,ch)\n",
    "    \n",
    "    return updated_image_values\n",
    "        \n",
    "    \n",
    "\n",
    "########## DON'T WRITE ANY CODE OUTSIDE THE FUNCTION! ################\n",
    "##### CODE BELOW IS USED FOR RUNNING LOCAL TEST DON'T MODIFY IT ######\n",
    "tests.K_means_test().test_k_means(k_means_segment)\n",
    "################ END OF LOCAL TEST CODE SECTION ######################"
   ]
  },
  {
   "cell_type": "markdown",
   "metadata": {},
   "source": [
    "### Visulizing K-means segmentation results"
   ]
  },
  {
   "cell_type": "code",
   "execution_count": 8,
   "metadata": {},
   "outputs": [
    {
     "data": {
      "image/png": "[encoded data removed]",
      "text/plain": [
       "<Figure size 648x864 with 1 Axes>"
      ]
     },
     "metadata": {
      "needs_background": "light"
     },
     "output_type": "display_data"
    }
   ],
   "source": [
    "k=4 # number of clusters - feel free to play with it\n",
    "\n",
    "image_values = image_to_matrix('images/bird_color_24.png')\n",
    "# Play with the K value below to see the effect number of clusters have\n",
    "new_image = k_means_segment(image_values, k=k)\n",
    "\n",
    "plt.figure(None,figsize=(9,12))\n",
    "plt.imshow(new_image)\n",
    "plt.show()"
   ]
  },
  {
   "cell_type": "markdown",
   "metadata": {},
   "source": [
    "\n",
    "You can reuse the K-means visualization code from previous section to show the training progress on the image for different iterations and even numbers of clusters.\n",
    "\n",
    "- - -"
   ]
  },
  {
   "cell_type": "markdown",
   "metadata": {},
   "source": [
    "## Part 2: Implementing a Multivariate Gaussian Mixture Model \n",
    "\n"
   ]
  },
  {
   "cell_type": "code",
   "execution_count": 9,
   "metadata": {
    "tags": [
     "graded"
    ]
   },
   "outputs": [
    {
     "name": "stdout",
     "output_type": "stream",
     "text": [
      "UnitTest passed successfully!\n"
     ]
    }
   ],
   "source": [
    "def initialize_parameters(X, k):\n",
    "    \"\"\"\n",
    "    Return initial values for training of the GMM\n",
    "    Set component mean to a random\n",
    "    pixel's value (without replacement),\n",
    "    based on the mean calculate covariance matrices,\n",
    "    and set each component mixing coefficient (PIs)\n",
    "    to a uniform values\n",
    "    (e.g. 4 components -> [0.25,0.25,0.25,0.25]).\n",
    "    \n",
    "    params:\n",
    "    X = numpy.ndarray[numpy.ndarray[float]] - m x n\n",
    "    k = int\n",
    "    \n",
    "    returns:\n",
    "    MU = numpy.ndarray[numpy.ndarray[float]] - k x n\n",
    "    SIGMA = numpy.ndarray[numpy.ndarray[numpy.ndarray[float]]] - k x n x n\n",
    "    PI = numpy.ndarray[float] - k x 1 \n",
    "    \"\"\"\n",
    "    #raise NotImplementedError()\n",
    "    \n",
    "    m = X.shape[0] # number of rows\n",
    "    n = X.shape[1] # number of cols\n",
    "    \n",
    "    \n",
    "    #calculate MU    \n",
    "    #calculate randon mean and return k x n\n",
    "    MU_elements = np.random.choice(m, k, replace=False) # list of elements to sample\n",
    "    MU = X[[MU_elements]]\n",
    "    \n",
    "    # another SIGMA\n",
    "    # cov(X) = 1/m*(X-E(X))^T %*% (X-E(X))\n",
    "    another_sigma = []\n",
    "    for i in range(k):\n",
    "        m = X.shape[0]\n",
    "        first_term = 1/m\n",
    "        second_term = (X-MU[i]).T\n",
    "        third_term = X-MU[i]\n",
    "        calc = first_term * (np.dot(second_term, third_term))\n",
    "        #print(\"calc: \", calc)\n",
    "        another_sigma.append(calc)\n",
    "    SIGMA = np.array(another_sigma)\n",
    "    \n",
    "    # calculate pi\n",
    "    # create k x 1 array with pi_val for each k\n",
    "    pi_val = 1.0 / k\n",
    "    PI = np.full((k, 1), pi_val)\n",
    "    \n",
    "    return MU, SIGMA, PI\n",
    "\n",
    "########## DON'T WRITE ANY CODE OUTSIDE THE FUNCTION! ################\n",
    "##### CODE BELOW IS USED FOR RUNNING LOCAL TEST DON'T MODIFY IT ######\n",
    "tests.GMMTests().test_gmm_initialization(initialize_parameters)\n",
    "################ END OF LOCAL TEST CODE SECTION ######################"
   ]
  },
  {
   "cell_type": "code",
   "execution_count": 10,
   "metadata": {
    "tags": [
     "graded"
    ]
   },
   "outputs": [
    {
     "name": "stdout",
     "output_type": "stream",
     "text": [
      "UnitTest passed successfully!\n"
     ]
    }
   ],
   "source": [
    "def prob(x, mu, sigma):\n",
    "    \"\"\"Calculate the probability of a single\n",
    "    data point x under component with\n",
    "    the given mean and covariance.\n",
    "    # NOTE: there is nothing to vectorize here yet,\n",
    "    # it's a simple check to make sure you got the\n",
    "    # multivariate normal distribution formula right\n",
    "    # which is given by N(x;MU,SIGMA) above\n",
    "\n",
    "    params:\n",
    "    x = numpy.ndarray[float]\n",
    "    mu = numpy.ndarray[float]\n",
    "    sigma = numpy.ndarray[numpy.ndarray[float]]\n",
    "\n",
    "    returns:\n",
    "    probability = float\n",
    "    \"\"\"\n",
    "\n",
    "    #raise NotImplementedError()\n",
    "    debug = False\n",
    "    if debug:\n",
    "        print(\"shapes: \", x.shape, mu.shape, sigma.shape)\n",
    "        print(\"x: \", x)\n",
    "        print(\"mu: \", mu)\n",
    "        print(\"sigma: \", sigma)\n",
    "    \n",
    "    d=len(x)\n",
    "    det_sigma = np.linalg.det(sigma)\n",
    "    x_mu = np.matrix(x - mu).T\n",
    "    sigma_inv = np.linalg.inv(sigma) \n",
    "    first_term = 1.0/np.power((2*np.pi),float(d/2))\n",
    "    second_term = np.power(det_sigma,-0.5)\n",
    "    third_term = np.exp(-0.5 * (x_mu.T * sigma_inv * x_mu)).item()  \n",
    "    if debug: \n",
    "        print(\"x_mu.shape: \", x_mu.shape)\n",
    "        print(\"sigma_inv.shape: \", sigma_inv.shape)\n",
    "        print(\"x_mu.T.shape: \", x_mu.T.shape)\n",
    "    \n",
    "    prob = first_term * second_term * third_term\n",
    "    \n",
    "    if debug:\n",
    "        print(\"shapes: \", x_mu.shape, sigma_inv.shape, x_mu.T.shape)\n",
    "        print(\"result: \", prob)\n",
    "\n",
    "    return prob\n",
    "\n",
    "########## DON'T WRITE ANY CODE OUTSIDE THE FUNCTION! ################\n",
    "##### CODE BELOW IS USED FOR RUNNING LOCAL TEST DON'T MODIFY IT ######\n",
    "tests.GMMTests().test_gmm_prob(prob)\n",
    "################ END OF LOCAL TEST CODE SECTION ######################"
   ]
  },
  {
   "cell_type": "code",
   "execution_count": 11,
   "metadata": {
    "tags": [
     "graded"
    ]
   },
   "outputs": [
    {
     "name": "stdout",
     "output_type": "stream",
     "text": [
      "UnitTest passed successfully!\n"
     ]
    }
   ],
   "source": [
    "def E_step(X,MU,SIGMA,PI,k):\n",
    "\n",
    "    debug = False\n",
    "    \n",
    "    #vectorize\n",
    "    responsibility = []\n",
    "    for i in range(k):\n",
    "        d=X.shape[1]\n",
    "        det_sigma = np.linalg.det(SIGMA[i])\n",
    "        x_mu = np.array(X - MU[i]) # (98820, 3)\n",
    "        sigma_inv = np.linalg.inv(SIGMA[i])\n",
    "        \n",
    "        first_term = 1.0/np.power((2*np.pi),float(d/2))\n",
    "        second_term = np.power(det_sigma,-0.5)\n",
    "        \n",
    "        totals_array = x_mu[:,:,np.newaxis]\n",
    "        totals_array_t = x_mu[:,np.newaxis,:]\n",
    "        totals_sigma_array = sigma_inv[np.newaxis,:,:]\n",
    "        four_d_dot = np.matmul(np.matmul(totals_array_t,totals_sigma_array), totals_array)\n",
    "\n",
    "        third_term = np.exp(-0.5 * four_d_dot)   \n",
    "\n",
    "        resp = first_term * second_term * third_term\n",
    "        resp = resp.reshape(resp.shape[0])\n",
    "\n",
    "        this_resp=resp*PI[i]\n",
    "        responsibility.append(this_resp)\n",
    "        \n",
    "    responsibility = np.array(responsibility)\n",
    "    responsibility = responsibility/np.sum(responsibility, axis=0)\n",
    "    \n",
    "    return responsibility         \n",
    "    \n",
    "########## DON'T WRITE ANY CODE OUTSIDE THE FUNCTION! ################\n",
    "##### CODE BELOW IS USED FOR RUNNING LOCAL TEST DON'T MODIFY IT ######\n",
    "tests.GMMTests().test_gmm_e_step(E_step)\n",
    "################ END OF LOCAL TEST CODE SECTION ######################"
   ]
  },
  {
   "cell_type": "code",
   "execution_count": 12,
   "metadata": {
    "scrolled": true,
    "tags": [
     "graded"
    ]
   },
   "outputs": [
    {
     "name": "stdout",
     "output_type": "stream",
     "text": [
      "UnitTest passed successfully!\n"
     ]
    }
   ],
   "source": [
    "def M_step(X, r, k):\n",
    "    \"\"\"\n",
    "    M-step - Maximization\n",
    "    Calculate new MU, SIGMA and PI matrices\n",
    "    based on the given responsibilities.\n",
    "    \n",
    "    params:\n",
    "    X = numpy.ndarray[numpy.ndarray[float]] - m x n\n",
    "    r = numpy.ndarray[numpy.ndarray[float]] - k x m\n",
    "    k = int\n",
    "    \n",
    "    returns:\n",
    "    new_MU = numpy.ndarray[numpy.ndarray[float]] - k x n\n",
    "    new_SIGMA = numpy.ndarray[numpy.ndarray[numpy.ndarray[float]]] - k x n x n\n",
    "    new_PI = numpy.ndarray[float] - k x 1\n",
    "    \"\"\"\n",
    "\n",
    "    #raise NotImplementedError()\n",
    "    \n",
    "    debug = False\n",
    "    \n",
    "    if debug:\n",
    "        print(\"r.shape (k x m): \", r.shape)\n",
    "        print(\"r[0]: \", r[0])\n",
    "        print(\"X.shape: \", X.shape)\n",
    "        print(\"X: \", X)\n",
    "    \n",
    "    # r = (k x m) = (3, 10)\n",
    "    # X = (m x n) = (10, 3)\n",
    "    #MU = (k x n) = (3, 3)\n",
    "    \n",
    "    # 1/Nk * sum [gamma(Znk) * Xn]\n",
    "    new_MU = []\n",
    "    for i in range(k):\n",
    "        r_i = r[i]\n",
    "        #this_mu= np.dot(r[i], X)\n",
    "        this_mu = r_i[:, np.newaxis]*X\n",
    "        sums = np.sum(this_mu, axis = 0)\n",
    "        normed = sums/np.sum(r_i, axis=0)\n",
    "        #print(\"normed: \", normed)\n",
    "        new_MU.append(normed)\n",
    "    new_MU = np.array(new_MU)\n",
    "    \n",
    "    #new_resp_SIGMA\n",
    "    # cov = 1/Nk * SUM [ gamma(Znk) * (X - MU) * (X - MU).T ]\n",
    "    new_SIGMA = []\n",
    "    for i in range(k):\n",
    "        r_i = r[i]\n",
    "        \n",
    "        # cov = 1/Nk * SUM [ gamma(Znk) * (X - MU) * (X - MU).T ]\n",
    "        Nk = np.sum(r_i, axis=0)\n",
    "        gamma_Znk = r_i[:, np.newaxis]\n",
    "        X_MU = X - new_MU[i]\n",
    "        X_MU_T = (X - new_MU[i]).T\n",
    "        if debug:\n",
    "            print(\"gamma_Znk: \", gamma_Znk.shape)\n",
    "            print(\"X_MU: \", X_MU.shape)\n",
    "            print(\"X_MU_T: \", X_MU_T.shape)  \n",
    "        \n",
    "        X_MU_gamma = X_MU * gamma_Znk\n",
    "        X_MU_gamma_xmuT = np.dot(X_MU_T, X_MU_gamma)\n",
    "        result_normed = X_MU_gamma_xmuT/Nk\n",
    "        if debug:\n",
    "            print(\"X_MU_gamma_xmuT: \", X_MU_gamma_xmuT.shape)\n",
    "            print(\"X_MU_gamma_xmuT: \", X_MU_gamma_xmuT)\n",
    "            print(\"result_normed: \", result_normed)\n",
    "        new_SIGMA.append(result_normed)\n",
    "    new_SIGMA = np.array(new_SIGMA)\n",
    "    \n",
    "    #new_PI\n",
    "    new_PI = []\n",
    "    for i in range(k):    \n",
    "        this_pi = np.sum(r[i], axis=0)/r[i].shape[0]\n",
    "        new_PI.append(this_pi)\n",
    "    new_PI = np.array(new_PI)\n",
    "    if debug:\n",
    "        print(\"new_PI.size (3, 1): \", new_PI.shape)\n",
    "        print(\"new pi: \", new_PI)\n",
    "        print(\"check 100 pi: \", np.sum(new_PI))\n",
    "    \n",
    "    \n",
    "    \n",
    "    return new_MU, new_SIGMA, new_PI\n",
    "\n",
    "########## DON'T WRITE ANY CODE OUTSIDE THE FUNCTION! ################\n",
    "##### CODE BELOW IS USED FOR RUNNING LOCAL TEST DON'T MODIFY IT ######\n",
    "tests.GMMTests().test_gmm_m_step(M_step)\n",
    "################ END OF LOCAL TEST CODE SECTION ######################"
   ]
  },
  {
   "cell_type": "code",
   "execution_count": 13,
   "metadata": {
    "scrolled": true,
    "tags": [
     "graded"
    ]
   },
   "outputs": [
    {
     "name": "stdout",
     "output_type": "stream",
     "text": [
      "UnitTest passed successfully!\n"
     ]
    }
   ],
   "source": [
    "def likelihood(X, PI, MU, SIGMA, k):\n",
    "    \"\"\"Calculate a log likelihood to the \n",
    "    trained model based on the following\n",
    "    formula for posterior probability:\n",
    "    log10(Pr(X | mixing, mean, stdev)) = sum((n=1 to N), log10(sum((k=1 to K),\n",
    "                                      mixing_k * N(x_n | mean_k,stdev_k))))\n",
    "\n",
    "    Make sure you are using log base 10, instead of log base 2.\n",
    "    params:\n",
    "    X = numpy.ndarray[numpy.ndarray[float]] - m x n\n",
    "    MU = numpy.ndarray[numpy.ndarray[float]] - k x n\n",
    "    SIGMA = numpy.ndarray[numpy.ndarray[numpy.ndarray[float]]] - k x n x n\n",
    "    PI = numpy.ndarray[float] - k x 1\n",
    "    k = int\n",
    "\n",
    "    returns:\n",
    "    log_likelihood = int\n",
    "    \"\"\"\n",
    "    # TODO: finish this function\n",
    "    \n",
    "    debug = False\n",
    "\n",
    "    #vectorize\n",
    "    responsibility = []\n",
    "    for i in range(k):\n",
    "        d=X.shape[1]\n",
    "        det_sigma = np.linalg.det(SIGMA[i])\n",
    "        x_mu = np.array(X - MU[i]) # (98820, 3)\n",
    "        sigma_inv = np.linalg.inv(SIGMA[i])\n",
    "        \n",
    "        first_term = 1.0/np.power((2*np.pi),float(d/2))\n",
    "        second_term = np.power(det_sigma,-0.5)\n",
    "        \n",
    "        totals_array = x_mu[:,:,np.newaxis]\n",
    "        totals_array_t = x_mu[:,np.newaxis,:]\n",
    "        totals_sigma_array = sigma_inv[np.newaxis,:,:]\n",
    "        four_d_dot = np.matmul(np.matmul(totals_array_t,totals_sigma_array), totals_array)\n",
    "\n",
    "        third_term = np.exp(-0.5 * four_d_dot)   \n",
    "\n",
    "        resp = first_term * second_term * third_term\n",
    "        resp = resp.reshape(resp.shape[0])\n",
    "\n",
    "        this_resp=resp*PI[i]\n",
    "        responsibility.append(this_resp)\n",
    "        \n",
    "    responsibility = np.array(responsibility)\n",
    "    \n",
    "    log_likelihood = np.log10(np.sum(responsibility, axis=0))\n",
    "    \n",
    "    llk = np.sum(log_likelihood)\n",
    "    if debug: \n",
    "        print(\"log_likelihood: \", log_likelihood)\n",
    "        print(\"llk: \", llk)\n",
    "        print()\n",
    "        print(\"answer expected: \", -23943.0)\n",
    "        \n",
    "    return llk\n",
    "    \n",
    "\n",
    "########## DON'T WRITE ANY CODE OUTSIDE THE FUNCTION! ################\n",
    "##### CODE BELOW IS USED FOR RUNNING LOCAL TEST DON'T MODIFY IT ######\n",
    "tests.GMMTests().test_gmm_likelihood(likelihood)\n",
    "################ END OF LOCAL TEST CODE SECTION ######################"
   ]
  },
  {
   "cell_type": "code",
   "execution_count": 14,
   "metadata": {
    "tags": [
     "graded"
    ]
   },
   "outputs": [
    {
     "name": "stdout",
     "output_type": "stream",
     "text": [
      "UnitTest passed successfully!\n"
     ]
    }
   ],
   "source": [
    "def train_model(X, k, convergence_function, initial_values = None):\n",
    "    \"\"\"\n",
    "    Train the mixture model using the \n",
    "    expectation-maximization algorithm. \n",
    "    Which is an interative execution of\n",
    "    the E and M steps from above.\n",
    "    If the initial_values aer None, initialize them.\n",
    "    Else it's a tuple of the format (MU, SIGMA, PI).\n",
    "    Convergence is reached when convergence_function\n",
    "    returns terminate as True,\n",
    "    see default convergence_function example \n",
    "    in `helper_functions.py`\n",
    "\n",
    "    params:\n",
    "    X = numpy.ndarray[numpy.ndarray[float]] - m x n\n",
    "    k = int\n",
    "    convergence_function = func\n",
    "    initial_values = None or (MU, SIGMA, PI)\n",
    "\n",
    "    params:\n",
    "    returns:\n",
    "    new_MU = numpy.ndarray[numpy.ndarray[float]] - k x n\n",
    "    new_SIGMA = numpy.ndarray[numpy.ndarray[numpy.ndarray[float]]] - k x n x n\n",
    "    new_PI = numpy.ndarray[float] - k x 1\n",
    "    responsibility = numpy.ndarray[numpy.ndarray[float]] - k x m\n",
    "    \"\"\"\n",
    "    #raise NotImplementedError()\n",
    "    \n",
    "    debug = False\n",
    "    \n",
    "    if debug:\n",
    "        \n",
    "        print(\"X: \", X.shape)\n",
    "        print(\"k: \", k)\n",
    "        #print(\"convergence_function: \", convergence_function())\n",
    "    \n",
    "    if initial_values is None:\n",
    "        if debug:\n",
    "            print(\"initialize values: \")\n",
    "        (initial_values) = initialize_parameters(X, k)\n",
    "    \n",
    "    new_MU, new_SIGMA, new_PI = initial_values\n",
    "    \n",
    "    if debug:\n",
    "        print(\"initial_values: \", initial_values)\n",
    "        print(\"Mu, Sigma, PI initial: \", new_MU.shape, new_SIGMA.shape, new_PI.shape)\n",
    "    \n",
    "    # E_step(X,MU,SIGMA,PI,k):\n",
    "    # M_step(X, r, k)\n",
    "    # likelihood(X, PI, MU, SIGMA, k)\n",
    "    \n",
    "    not_converged = True\n",
    "    converged = False\n",
    "    count = 1\n",
    "    prev_likelihood = likelihood(X, new_PI, new_MU, new_SIGMA, k)\n",
    "    #while not_converged and count < 20:\n",
    "    while not converged:\n",
    "        if debug:\n",
    "            print(\"count: \", count)\n",
    "            print(\"start e step\")\n",
    "        \n",
    "        #responsibility = E_step(X,new_MU,new_SIGMA,new_PI,k)\n",
    "        \n",
    "        responsibility = []\n",
    "        for i in range(k):\n",
    "            d=X.shape[1]\n",
    "            det_sigma = np.linalg.det(new_SIGMA[i])\n",
    "            x_mu = np.array(X - new_MU[i]) # (98820, 3)\n",
    "            sigma_inv = np.linalg.inv(new_SIGMA[i])\n",
    "\n",
    "            first_term = 1.0/np.power((2*np.pi),float(d/2))\n",
    "            second_term = np.power(det_sigma,-0.5)\n",
    "\n",
    "            totals_array = x_mu[:,:,np.newaxis]\n",
    "            totals_array_t = x_mu[:,np.newaxis,:]\n",
    "            totals_sigma_array = sigma_inv[np.newaxis,:,:]\n",
    "            four_d_dot = np.matmul(np.matmul(totals_array_t,totals_sigma_array), totals_array)\n",
    "\n",
    "            third_term = np.exp(-0.5 * four_d_dot)   \n",
    "\n",
    "            resp = first_term * second_term * third_term\n",
    "            resp = resp.reshape(resp.shape[0])\n",
    "\n",
    "            this_resp=resp*new_PI[i]\n",
    "            responsibility.append(this_resp)\n",
    "        \n",
    "        responsibility = np.array(responsibility)\n",
    "        responsibility = responsibility/np.sum(responsibility, axis=0)\n",
    "        \n",
    "        \n",
    "        if debug:\n",
    "            print(\"start m step\")\n",
    "        #new_MU, new_SIGMA, new_PI = M_step(X, responsibility, k)\n",
    "        \n",
    "        new_MU = []\n",
    "        for i in range(k):\n",
    "            r_i = responsibility[i]\n",
    "            this_mu = r_i[:, np.newaxis]*X\n",
    "            sums = np.sum(this_mu, axis = 0)\n",
    "            normed = sums/np.sum(r_i, axis=0)\n",
    "            #print(\"normed: \", normed)\n",
    "            new_MU.append(normed)\n",
    "        new_MU = np.array(new_MU)\n",
    "\n",
    "        new_SIGMA = []\n",
    "        for i in range(k):\n",
    "            r_i = responsibility[i]\n",
    "            Nk = np.sum(r_i, axis=0)\n",
    "            gamma_Znk = r_i[:, np.newaxis]\n",
    "            X_MU = X - new_MU[i]\n",
    "            X_MU_T = (X - new_MU[i]).T\n",
    "            X_MU_gamma = X_MU * gamma_Znk\n",
    "            X_MU_gamma_xmuT = np.dot(X_MU_T, X_MU_gamma)\n",
    "            result_normed = X_MU_gamma_xmuT/Nk\n",
    "            new_SIGMA.append(result_normed)\n",
    "        new_SIGMA = np.array(new_SIGMA)\n",
    "\n",
    "        new_PI = []\n",
    "        for i in range(k):    \n",
    "            this_pi = np.sum(responsibility[i], axis=0)/responsibility[i].shape[0]\n",
    "            new_PI.append(this_pi)\n",
    "        new_PI = np.array(new_PI)\n",
    "               \n",
    "        \n",
    "        if debug:\n",
    "            print(\"start likelihood\")\n",
    "        new_likelihood = likelihood(X, new_PI, new_MU, new_SIGMA, k)\n",
    "        cnt, converged = convergence_function(prev_likelihood, new_likelihood, count)\n",
    "        diff = new_likelihood - prev_likelihood\n",
    "        count=cnt\n",
    "        if debug:\n",
    "            print(\"lkl: \", prev_likelihood)\n",
    "            print(\"new lkl: \", new_likelihood)\n",
    "            print(\"values: \", np.sum(new_MU), np.sum(new_SIGMA), new_PI)\n",
    "            print(\"converged: \", converged)\n",
    "            print(\"cnt: \", cnt)\n",
    "            print(\"diff: \", diff)\n",
    "            print()\n",
    "        if diff > 90000:\n",
    "            not_converged = False\n",
    "        prev_likelihood = new_likelihood\n",
    "        \n",
    "        \n",
    "    return new_MU, new_SIGMA, new_PI, responsibility\n",
    "        \n",
    "\n",
    "########## DON'T WRITE ANY CODE OUTSIDE THE FUNCTION! ################\n",
    "##### CODE BELOW IS USED FOR RUNNING LOCAL TEST DON'T MODIFY IT ######\n",
    "tests.GMMTests().test_gmm_train(train_model, likelihood)\n",
    "################ END OF LOCAL TEST CODE SECTION ######################"
   ]
  },
  {
   "cell_type": "code",
   "execution_count": 15,
   "metadata": {
    "tags": [
     "graded"
    ]
   },
   "outputs": [
    {
     "name": "stdout",
     "output_type": "stream",
     "text": [
      "UnitTest passed successfully!\n"
     ]
    }
   ],
   "source": [
    "def cluster(r):\n",
    "    \"\"\"\n",
    "    Based on a given responsibilities matrix\n",
    "    return an array of clusters.\n",
    "    Assign each datapoint to a cluster based,\n",
    "    on component with a max-likelihood \n",
    "    (maximum responsibility value).\n",
    "    \n",
    "    params:\n",
    "    r = numpy.ndarray[numpy.ndarray[float]] - k x m - responsibility matrix\n",
    "    \n",
    "    return:\n",
    "    clusters = numpy.ndarray[int] - m x 1 \n",
    "    \"\"\"\n",
    "\n",
    "    #raise NotImplementedError()\n",
    "    debug = False\n",
    "    if debug:\n",
    "        print(\"r: \", r.shape)\n",
    "        print(\"r: \", r.shape[0])\n",
    "        print(\"r tran:\\n \", r.T)\n",
    "        print(\"r argmax: \", np.argmax(r.T, axis=1))\n",
    "    \n",
    "    \n",
    "    #old\n",
    "    #sum_rows = np.sum(r, axis=0)\n",
    "    #clusters = np.array(sum_rows)[:,np.newaxis].astype(int)\n",
    "    #means = get_initial_means(r.T, r.shape[0])\n",
    "    #new_means, clusters = k_means_step(r.T, r.shape[0], means)\n",
    "        \n",
    "    clusters = np.argmax(r.T, axis=1)\n",
    "    \n",
    "    return clusters\n",
    "\n",
    "########## DON'T WRITE ANY CODE OUTSIDE THE FUNCTION! ################\n",
    "##### CODE BELOW IS USED FOR RUNNING LOCAL TEST DON'T MODIFY IT ######\n",
    "tests.GMMTests().test_gmm_cluster(cluster)\n",
    "################ END OF LOCAL TEST CODE SECTION ######################"
   ]
  },
  {
   "cell_type": "code",
   "execution_count": 18,
   "metadata": {
    "tags": [
     "graded"
    ]
   },
   "outputs": [
    {
     "name": "stdout",
     "output_type": "stream",
     "text": [
      "UnitTest passed successfully!\n"
     ]
    }
   ],
   "source": [
    "def segment(X, MU, k, r):\n",
    "    \"\"\"\n",
    "    Segment the X matrix into the pre-specified\n",
    "    number of components. Returns the matrix with \n",
    "    the each data point replace with its max-likelihood\n",
    "    component mean. E.g in case of image returns \n",
    "    the original matrix with the each pixel's \n",
    "    intensity replaced with its max-likelihood\n",
    "    component mean. (the shape is still mxn,\n",
    "    not original image size)\n",
    "\n",
    "    params:\n",
    "    X = numpy.ndarray[numpy.ndarray[float]] - m x n\n",
    "    MU = numpy.ndarray[numpy.ndarray[float]] - k x n\n",
    "    k = int\n",
    "    r = numpy.ndarray[numpy.ndarray[float]] - k x m - responsibility matrix\n",
    "\n",
    "    returns:\n",
    "    new_X = numpy.ndarray[numpy.ndarray[float]] - m x n\n",
    "    \"\"\"\n",
    "\n",
    "    #raise NotImplementedError()\n",
    "    \n",
    "    new_X = np.empty(X.shape)\n",
    "    clusters = cluster(r)\n",
    "    #print(\"clusters: \", clusters)\n",
    "    \n",
    "    for i in range(X.shape[0]):\n",
    "        cluster_val = clusters[i]\n",
    "        new_X[i]= MU[cluster_val]\n",
    "    #print(\"new_X: \", new_X.shape)\n",
    "    return new_X\n",
    "        \n",
    "\n",
    "########## DON'T WRITE ANY CODE OUTSIDE THE FUNCTION! ################\n",
    "##### CODE BELOW IS USED FOR RUNNING LOCAL TEST DON'T MODIFY IT ######\n",
    "tests.GMMTests().test_gmm_segment(train_model, segment)\n",
    "################ END OF LOCAL TEST CODE SECTION ######################"
   ]
  },
  {
   "cell_type": "code",
   "execution_count": 19,
   "metadata": {
    "scrolled": true,
    "tags": [
     "graded"
    ]
   },
   "outputs": [
    {
     "name": "stdout",
     "output_type": "stream",
     "text": [
      "UnitTest passed successfully!\n"
     ]
    }
   ],
   "source": [
    "def best_segment(X,k,iters):\n",
    "    \"\"\"Determine the best segmentation\n",
    "    of the image by repeatedly\n",
    "    training the model and\n",
    "    calculating its likelihood.\n",
    "    Return the segment with the\n",
    "    highest likelihood.\n",
    "\n",
    "    params:\n",
    "    X = numpy.ndarray[numpy.ndarray[float]] - m x n\n",
    "    k = int\n",
    "    iters = int\n",
    "\n",
    "    returns:\n",
    "    likelihood = float\n",
    "    segment = numpy.ndarray[numpy.ndarray[float]]\n",
    "    \"\"\"\n",
    "\n",
    "    #raise NotImplementedError()\n",
    "    \n",
    "    likelihoods = []\n",
    "    segments = []\n",
    "    for i in range(iters):\n",
    "        #print(\"iters: \", i)\n",
    "        new_MU, new_SIGMA, new_PI, responsibility = train_model(X, k, convergence_function=default_convergence, initial_values = None)\n",
    "        new_likelihood = likelihood(X, new_PI, new_MU, new_SIGMA, k)\n",
    "        likelihoods.append(new_likelihood)\n",
    "        new_segment = segment(X, new_MU, k, responsibility)\n",
    "        segments.append(new_segment)\n",
    "    best = np.argmax(likelihoods)\n",
    "    \n",
    "    #print(\"\", likelihoods[best])\n",
    "    #print()\n",
    "    #print(segments[best])\n",
    "    return likelihoods[best], segments[best]\n",
    "    \n",
    "        \n",
    "        \n",
    "\n",
    "########## DON'T WRITE ANY CODE OUTSIDE THE FUNCTION! ################\n",
    "##### CODE BELOW IS USED FOR RUNNING LOCAL TEST DON'T MODIFY IT ######\n",
    "tests.GMMTests().test_gmm_best_segment(best_segment)\n",
    "################ END OF LOCAL TEST CODE SECTION ######################"
   ]
  },
  {
   "cell_type": "markdown",
   "metadata": {},
   "source": [
    "#### GMM - Visualizing the results\n",
    "\n",
    "\n"
   ]
  },
  {
   "cell_type": "code",
   "execution_count": 20,
   "metadata": {},
   "outputs": [],
   "source": [
    "def GMM_2D_dataset(dataset_index, K):\n",
    "    # Load the dataset from data folder\n",
    "    X = np.loadtxt(\"data/%d_dataset_X.csv\" % dataset_index, delimiter=\",\")\n",
    "    print(\"There are %d datapoints in the current dataset, each of a size %d\" % X.shape)\n",
    "    # Load the labels\n",
    "    # Clustering is unsupervised method, where no labels are provided\n",
    "    # However, since we generated the data outselves we know the labels,\n",
    "    # and load them for illustration purposes.\n",
    "    y = np.int16(np.loadtxt(\"data/%d_dataset_y.csv\" % dataset_index, delimiter=\",\"))\n",
    "    # Feel free to edit the termination condition for the EM algorithm\n",
    "    # Currently is just runs for n_iterations, before terminating\n",
    "    \n",
    "    MU, SIGMA, PI = initialize_parameters(X, K)\n",
    "    \n",
    "    clusters_history = []\n",
    "    for _ in range(200):\n",
    "        r = E_step(X,MU,SIGMA,PI,K)\n",
    "        new_MU, new_SIGMA, new_PI = M_step(X, r, K)\n",
    "        PI, MU, SIGMA = new_PI, new_MU, new_SIGMA\n",
    "        clusters = cluster(r)\n",
    "        clusters_history.append(clusters)\n",
    "\n",
    "    return X, y, clusters_history"
   ]
  },
  {
   "cell_type": "code",
   "execution_count": 21,
   "metadata": {},
   "outputs": [
    {
     "name": "stdout",
     "output_type": "stream",
     "text": [
      "There are 1000 datapoints in the current dataset, each of a size 2\n"
     ]
    },
    {
     "data": {
      "application/vnd.jupyter.widget-view+json": {
       "model_id": "a38e42fe7f644d73a55ea5ad49151413",
       "version_major": 2,
       "version_minor": 0
      },
      "text/plain": [
       "interactive(children=(IntSlider(value=99, description='i', max=199), Output()), _dom_classes=('widget-interact…"
      ]
     },
     "metadata": {},
     "output_type": "display_data"
    }
   ],
   "source": [
    "# TRY DIFFERENT PARAMETERS\n",
    "dataset_index = 3 # for different dataset change it to number from [0,5]\n",
    "K = 3 # Number of clusters - play with this number\n",
    "\n",
    "X, y, clusters_history = GMM_2D_dataset(dataset_index, K)\n",
    "\n",
    "# This is an interactive cell to see the progress of training your GMM algorithm.\n",
    "# Feel free to improve the visualization code and share it with your classmates on Piazza.\n",
    "def get_cluster(i):\n",
    "    clusters = clusters_history[i] # Get the clusters from K-means' i-th iteration\n",
    "    plt.figure(None, figsize=(15,6)) # Set the plot size\n",
    "    plt.suptitle('Drag the slider to see the algorthm training progress')\n",
    "    ax1=plt.subplot(1, 2, 1)\n",
    "    ax1.set_title('K-means clsuters - step %d' % i)\n",
    "    for k in range(K):\n",
    "        plt.plot(X[clusters==k,0], X[clusters==k,1], '.') # \n",
    "        # Try to plot the centers of the clusters \n",
    "        # You can access them by calling means_history[i]\n",
    "        # How could you plot the area that belong to that cluster?\n",
    "\n",
    "    # Just to get a flavour of how the data looks like\n",
    "    ax2=plt.subplot(1, 2, 2)\n",
    "    ax2.set_title('Ground truth clusters')\n",
    "    for i in np.unique(y):\n",
    "        ax2.plot(X[y==i,0],X[y==i,1],'.')\n",
    "\n",
    "    plt.show()\n",
    "\n",
    "interactive(get_cluster, i=(0,len(clusters_history)-1,1))"
   ]
  },
  {
   "cell_type": "markdown",
   "metadata": {},
   "source": [
    "### Let's visualize the image compression results of GMM."
   ]
  },
  {
   "cell_type": "code",
   "execution_count": 22,
   "metadata": {},
   "outputs": [
    {
     "data": {
      "image/png": "[encoded data removed]",
      "text/plain": [
       "<Figure size 648x864 with 1 Axes>"
      ]
     },
     "metadata": {
      "needs_background": "light"
     },
     "output_type": "display_data"
    }
   ],
   "source": [
    "image_file = 'images/bird_color_24.png' # Image path\n",
    "original_image_matrix = image_to_matrix(image_file) # Save original image\n",
    "image_matrix = original_image_matrix.reshape(-1,3) # collapse the dimension\n",
    "K = 7 # K\n",
    "\n",
    "_, best_seg = best_segment(image_matrix, K, iters = 10)\n",
    "new_image = best_seg.reshape(*original_image_matrix.shape) # reshape collapsed matrix to original size\n",
    "# Show the image\n",
    "plt.figure(None,figsize=(9,12))\n",
    "plt.imshow(new_image)\n",
    "plt.show()"
   ]
  },
  {
   "cell_type": "markdown",
   "metadata": {},
   "source": [
    "---"
   ]
  },
  {
   "cell_type": "markdown",
   "metadata": {},
   "source": [
    "## Part 3: Model Experimentation \n",
    "\n",
    "We'll now experiment with a few methods for improving GMM performance. For example improved initialization.\n",
    "\n",
    "\n",
    "\n"
   ]
  },
  {
   "cell_type": "code",
   "execution_count": null,
   "metadata": {
    "tags": [
     "graded"
    ]
   },
   "outputs": [],
   "source": [
    "def improved_initialization(X,k):\n",
    "    \"\"\"\n",
    "    Initialize the training\n",
    "    process by setting each\n",
    "    component mean using some algorithm that\n",
    "    you think might give better means to start with,\n",
    "    based on the mean calculate covariance matrices,\n",
    "    and set each component mixing coefficient (PIs)\n",
    "    to a uniform values\n",
    "    (e.g. 4 components -> [0.25,0.25,0.25,0.25]).\n",
    "    \n",
    "    params:\n",
    "    X = numpy.ndarray[numpy.ndarray[float]] - m x n\n",
    "    k = int\n",
    "    \n",
    "    returns:\n",
    "    MU = numpy.ndarray[numpy.ndarray[float]] - k x n\n",
    "    SIGMA = numpy.ndarray[numpy.ndarray[numpy.ndarray[float]]] - k x n x n\n",
    "    PI = numpy.ndarray[float] - k x 1 \n",
    "    \"\"\"\n",
    "\n",
    "    #raise NotImplementedError()\n",
    "    \n",
    "    m = X.shape[0] # number of rows\n",
    "    n = X.shape[1] # number of cols\n",
    "    \n",
    "    all_means=[]\n",
    "    all_clusters=[]\n",
    "    for i in range(10):\n",
    "        initial_means = get_initial_means(X, k)\n",
    "        means_not_converged = True\n",
    "        #print(\"k\", k)\n",
    "        count = 0\n",
    "        while means_not_converged:\n",
    "            old_means = np.copy(initial_means)\n",
    "            initial_means, clusters = k_means_step(X, k, initial_means)\n",
    "            if count > 0:\n",
    "                converged = clusters == clusters_old\n",
    "\n",
    "                if converged.all():\n",
    "                    means_not_converged = False\n",
    "            clusters_old = np.copy(clusters)\n",
    "            count = count+1        \n",
    "        all_means.append(initial_means)\n",
    "        this_cluster_amounts=[]\n",
    "        for x in range(k):\n",
    "            this_cluster_amounts.append(np.sum(clusters==x))\n",
    "        max_amount = np.max(this_cluster_amounts)\n",
    "        all_clusters.append(max_amount)\n",
    "    max_mean_index = np.argmax(all_clusters)\n",
    "    MU = all_means[max_mean_index]\n",
    "    \n",
    "    #MU = initial_means\n",
    "    #print(\"clusters: \", np.sum(clusters==0), np.sum(clusters==1), np.sum(clusters==2), np.sum(clusters==3), np.sum(clusters==4))\n",
    "    \n",
    "    \n",
    "    #old MU    \n",
    "    #calculate randon mean and return k x n\n",
    "    #MU_elements = np.random.choice(m, k, replace=False) # list of elements to sample\n",
    "    #MU = X[[MU_elements]]\n",
    "    #print(\"MU: \", MU.shape)\n",
    "    \n",
    "    # another SIGMA\n",
    "    # cov(X) = 1/m*(X-E(X))^T %*% (X-E(X))\n",
    "    another_sigma = []\n",
    "    for i in range(k):\n",
    "        m = X.shape[0]\n",
    "        first_term = 1/m\n",
    "        second_term = (X-MU[i]).T\n",
    "        third_term = X-MU[i]\n",
    "        calc = first_term * (np.dot(second_term, third_term))\n",
    "        #print(\"calc: \", calc)\n",
    "        another_sigma.append(calc)\n",
    "    SIGMA = np.array(another_sigma)\n",
    "    \n",
    "    # calculate pi\n",
    "    # create k x 1 array with pi_val for each k\n",
    "    pi_val = 1.0 / k\n",
    "    PI = np.full((k, 1), pi_val)\n",
    "    \n",
    "    return MU, SIGMA, PI\n",
    "\n",
    "########## DON'T WRITE ANY CODE OUTSIDE THE FUNCTION! ################\n",
    "##### CODE BELOW IS USED FOR RUNNING LOCAL TEST DON'T MODIFY IT ######\n",
    "tests.GMMTests().test_gmm_improvement(improved_initialization, initialize_parameters, train_model, likelihood)\n",
    "################ END OF LOCAL TEST CODE SECTION ######################"
   ]
  },
  {
   "cell_type": "markdown",
   "metadata": {},
   "source": [
    "## Part 3b: Convergence Condition\n",
    "\n",
    "7.5 points\n",
    "\n",
    "You might be skeptical of the convergence criterion we've provided in `default_convergence()`. To test out another convergence condition, implement `new_convergence_condition()` to return true if all the new model parameters (means, variances, and mixing coefficients) are within 10% of the previous variables for 10 consecutive iterations. This will mean re-implementing `train_model()`, which you will also do in `train_model_improved()` function."
   ]
  },
  {
   "cell_type": "code",
   "execution_count": null,
   "metadata": {
    "tags": [
     "graded"
    ]
   },
   "outputs": [],
   "source": [
    "def new_convergence_function(previous_variables, new_variables, conv_ctr,\n",
    "                             conv_ctr_cap=10):\n",
    "    \"\"\"\n",
    "    Convergence function\n",
    "    based on parameters:\n",
    "    when all variables vary by\n",
    "    less than 10% from the previous\n",
    "    iteration's variables, increase\n",
    "    the convergence counter.\n",
    "\n",
    "    params:\n",
    "\n",
    "    previous_variables = [numpy.ndarray[float]]\n",
    "                         containing [means, variances, mixing_coefficients]\n",
    "    new_variables = [numpy.ndarray[float]]\n",
    "                    containing [means, variances, mixing_coefficients]\n",
    "    conv_ctr = int\n",
    "    conv_ctr_cap = int\n",
    "\n",
    "    return:\n",
    "    conv_ctr = int\n",
    "    converged = boolean\n",
    "    \"\"\"\n",
    "\n",
    "    \n",
    "#     increase_convergence_ctr = (abs(prev_likelihood) * 0.9 < abs(new_likelihood) < abs(prev_likelihood) * 1.1)\n",
    "#     if increase_convergence_ctr:\n",
    "#         conv_ctr += 1\n",
    "#     else:\n",
    "#         conv_ctr = 0\n",
    "\n",
    "#     return conv_ctr, conv_ctr > conv_ctr_cap\n",
    "    \n",
    "    #print(\"previous variables: \")\n",
    "    #print(previous_variables)\n",
    "    #print(\"new_variables\")\n",
    "    #print(new_variables)\n",
    "    \n",
    "    prev_means = previous_variables[0]\n",
    "    #print(\"prev_means: \", prev_means.shape)\n",
    "    prev_sigma = previous_variables[1]\n",
    "    #print(\"prev_sigma: \", prev_sigma.shape)\n",
    "    prev_pi = previous_variables[2]\n",
    "    #print(\"prev_pi: \", prev_pi.shape)\n",
    "    \n",
    "    new_means = new_variables[0]\n",
    "    #print(\"new_means: \", new_means.shape)\n",
    "    new_sigma = new_variables[1]\n",
    "    #print(\"new_sigma: \", new_sigma.shape)\n",
    "    new_pi = new_variables[2]\n",
    "    #print(\"new_pi: \", new_pi.shape)\n",
    "    \n",
    "    #print(new_means - prev_means)\n",
    "    #print(prev_means *.9)\n",
    "    #print(new_means)\n",
    "    #print(prev_means * 1.1)\n",
    "    #print(\"1 check: \", (prev_means * .9 < new_means).all())\n",
    "    \n",
    "    threshold = .05\n",
    "    \n",
    "    mean_low_converge = (abs(prev_means) * (1.0-threshold) < abs(new_means)).all()\n",
    "    mean_high_converge = (abs(new_means) < abs(prev_means) * (1.0 + threshold)).all()\n",
    "    sigma_low_converge = (abs(prev_sigma) * (1.0-threshold) < abs(new_sigma)).all()\n",
    "    sigma_high_converge = (abs(new_sigma) < abs(prev_sigma) * (1.0 + threshold)).all()\n",
    "    pi_low_converge = (abs(prev_pi) * (1.0-threshold) < abs(new_pi)).all()\n",
    "    pi_high_converge = (abs(new_pi) < abs(prev_pi) * (1.0 + threshold)).all()\n",
    "    \n",
    "    #print(mean_low_converge, mean_high_converge)\n",
    "    #print(sigma_low_converge, sigma_high_converge)\n",
    "    #print(pi_low_converge, pi_high_converge)\n",
    "    \n",
    "    if mean_low_converge and mean_high_converge and sigma_low_converge and sigma_high_converge and pi_low_converge and pi_high_converge:\n",
    "        #print(\"converged\")\n",
    "        increase_convergence_ctr = True\n",
    "    else: \n",
    "        increase_convergence_ctr = False\n",
    "        \n",
    "    if increase_convergence_ctr:\n",
    "        conv_ctr += 1\n",
    "    else:\n",
    "        conv_ctr = 0\n",
    "\n",
    "    #print(conv_ctr, conv_ctr > conv_ctr_cap)    \n",
    "    return conv_ctr, conv_ctr > conv_ctr_cap\n",
    "\n",
    "    \n",
    "\n",
    "def train_model_improved(X, k, convergence_function, initial_values = None):\n",
    "    \"\"\"\n",
    "    Train the mixture model using the \n",
    "    expectation-maximization algorithm. \n",
    "    Which is an interative execution of\n",
    "    the E and M steps from above.\n",
    "    Convergence is reached when convergence_function\n",
    "    returns terminate as True,\n",
    "    see default convergence_function example \n",
    "    in `helper_functions.py`\n",
    "\n",
    "    params:\n",
    "    X = numpy.ndarray[numpy.ndarray[float]] - m x n\n",
    "    k = int\n",
    "    convergence_function = func\n",
    "    initial_values = None or (MU, SIGMA, PI)\n",
    "\n",
    "    params:\n",
    "    returns:\n",
    "    new_MU = numpy.ndarray[numpy.ndarray[float]] - k x n\n",
    "    new_SIGMA = numpy.ndarray[numpy.ndarray[numpy.ndarray[float]]] - k x n x n\n",
    "    new_PI = numpy.ndarray[float] - k x 1\n",
    "    responsibility = numpy.ndarray[numpy.ndarray[float]] - k x m\n",
    "    \"\"\"\n",
    "\n",
    "    debug = False\n",
    "    \n",
    "    if debug:\n",
    "        \n",
    "        print(\"X: \", X.shape)\n",
    "        print(\"k: \", k)\n",
    "        #print(\"convergence_function: \", convergence_function())\n",
    "    \n",
    "    if initial_values is None:\n",
    "        if debug:\n",
    "            print(\"initialize values: \")\n",
    "        (initial_values) = improved_initialization(X, k)\n",
    "    \n",
    "    new_MU, new_SIGMA, new_PI = initial_values\n",
    "    \n",
    "    if debug:\n",
    "        print(\"initial_values: \", initial_values)\n",
    "        print(\"Mu, Sigma, PI initial: \", new_MU.shape, new_SIGMA.shape, new_PI.shape)\n",
    "    \n",
    "    # E_step(X,MU,SIGMA,PI,k):\n",
    "    # M_step(X, r, k)\n",
    "    # likelihood(X, PI, MU, SIGMA, k)\n",
    "    \n",
    "    not_converged = True\n",
    "    converged = False\n",
    "    count = 1\n",
    "    prev_likelihood = likelihood(X, new_PI, new_MU, new_SIGMA, k)\n",
    "    prev_variables = [new_MU, new_SIGMA, new_PI]\n",
    "    #while not_converged and count < 20:\n",
    "    while not converged:\n",
    "        if debug:\n",
    "            print(\"count: \", count)\n",
    "            print(\"start e step\")\n",
    "        \n",
    "        #responsibility = E_step(X,new_MU,new_SIGMA,new_PI,k)\n",
    "        \n",
    "        responsibility = []\n",
    "        for i in range(k):\n",
    "            d=X.shape[1]\n",
    "            det_sigma = np.linalg.det(new_SIGMA[i])\n",
    "            x_mu = np.array(X - new_MU[i]) # (98820, 3)\n",
    "            sigma_inv = np.linalg.inv(new_SIGMA[i])\n",
    "\n",
    "            first_term = 1.0/np.power((2*np.pi),float(d/2))\n",
    "            second_term = np.power(det_sigma,-0.5)\n",
    "\n",
    "            totals_array = x_mu[:,:,np.newaxis]\n",
    "            totals_array_t = x_mu[:,np.newaxis,:]\n",
    "            totals_sigma_array = sigma_inv[np.newaxis,:,:]\n",
    "            four_d_dot = np.matmul(np.matmul(totals_array_t,totals_sigma_array), totals_array)\n",
    "\n",
    "            third_term = np.exp(-0.5 * four_d_dot)   \n",
    "\n",
    "            resp = first_term * second_term * third_term\n",
    "            resp = resp.reshape(resp.shape[0])\n",
    "\n",
    "            this_resp=resp*new_PI[i]\n",
    "            responsibility.append(this_resp)\n",
    "        \n",
    "        responsibility = np.array(responsibility)\n",
    "        responsibility = responsibility/np.sum(responsibility, axis=0)\n",
    "        \n",
    "        \n",
    "        if debug:\n",
    "            print(\"start m step\")\n",
    "        #new_MU, new_SIGMA, new_PI = M_step(X, responsibility, k)\n",
    "        \n",
    "        new_MU = []\n",
    "        for i in range(k):\n",
    "            r_i = responsibility[i]\n",
    "            this_mu = r_i[:, np.newaxis]*X\n",
    "            sums = np.sum(this_mu, axis = 0)\n",
    "            normed = sums/np.sum(r_i, axis=0)\n",
    "            #print(\"normed: \", normed)\n",
    "            new_MU.append(normed)\n",
    "        new_MU = np.array(new_MU)\n",
    "\n",
    "        new_SIGMA = []\n",
    "        for i in range(k):\n",
    "            r_i = responsibility[i]\n",
    "            Nk = np.sum(r_i, axis=0)\n",
    "            gamma_Znk = r_i[:, np.newaxis]\n",
    "            X_MU = X - new_MU[i]\n",
    "            X_MU_T = (X - new_MU[i]).T\n",
    "            X_MU_gamma = X_MU * gamma_Znk\n",
    "            X_MU_gamma_xmuT = np.dot(X_MU_T, X_MU_gamma)\n",
    "            result_normed = X_MU_gamma_xmuT/Nk\n",
    "            new_SIGMA.append(result_normed)\n",
    "        new_SIGMA = np.array(new_SIGMA)\n",
    "\n",
    "        new_PI = []\n",
    "        for i in range(k):    \n",
    "            this_pi = np.sum(responsibility[i], axis=0)/responsibility[i].shape[0]\n",
    "            new_PI.append(this_pi)\n",
    "        new_PI = np.array(new_PI)\n",
    "               \n",
    "        \n",
    "        if debug:\n",
    "            print(\"start likelihood\")\n",
    "        new_likelihood = likelihood(X, new_PI, new_MU, new_SIGMA, k)\n",
    "        new_variables = [new_MU, new_SIGMA, new_PI]\n",
    "        cnt, converged = new_convergence_function(prev_variables, new_variables, count)\n",
    "        diff = new_likelihood - prev_likelihood\n",
    "        count=cnt\n",
    "        if debug:\n",
    "            print(\"lkl: \", prev_likelihood)\n",
    "            print(\"new lkl: \", new_likelihood)\n",
    "            print(\"values: \", np.sum(new_MU), np.sum(new_SIGMA), new_PI)\n",
    "            print(\"converged: \", converged)\n",
    "            print(\"cnt: \", cnt)\n",
    "            print(\"diff: \", diff)\n",
    "            print()\n",
    "        if diff > 90000:\n",
    "            not_converged = False\n",
    "        prev_likelihood = new_likelihood\n",
    "        prev_variables = new_variables\n",
    "        \n",
    "        \n",
    "    return new_MU, new_SIGMA, new_PI, responsibility\n",
    "\n",
    "########## DON'T WRITE ANY CODE OUTSIDE THE FUNCTION! ################\n",
    "# Unittest below will check both of the functions at the same time. \n",
    "##### CODE BELOW IS USED FOR RUNNING LOCAL TEST DON'T MODIFY IT ######\n",
    "tests.GMMTests().test_convergence_condition(improved_initialization, train_model_improved, initialize_parameters, train_model, likelihood, new_convergence_function)\n",
    "################ END OF LOCAL TEST CODE SECTION ######################"
   ]
  },
  {
   "cell_type": "markdown",
   "metadata": {},
   "source": [
    "## Part 4: Bayesian Information Criterion (20 pts)\n",
    "\n",
    "\n",
    "To avoid overfitting, we can use the [Bayesian information criterion](https://en.wikipedia.org/wiki/Bayesian_information_criterion) (a.k.a. BIC) which penalizes models based on the number of parameters they use. In the case of the Gaussian mixture model, this is equal to the number of components times the number of variables per component (mean, variance and mixing coefficient).\n",
    "\n",
    "\n"
   ]
  },
  {
   "cell_type": "code",
   "execution_count": null,
   "metadata": {
    "tags": [
     "graded"
    ]
   },
   "outputs": [],
   "source": [
    "def bayes_info_criterion(X, PI, MU, SIGMA, k):\n",
    "    \"\"\"\n",
    "    See description above\n",
    "    params:\n",
    "    X = numpy.ndarray[numpy.ndarray[float]] - m x n\n",
    "    MU = numpy.ndarray[numpy.ndarray[float]] - k x n\n",
    "    SIGMA = numpy.ndarray[numpy.ndarray[numpy.ndarray[float]]] - k x n x n\n",
    "    PI = numpy.ndarray[float] - k x 1\n",
    "    k = int\n",
    "    \n",
    "    return:\n",
    "    bayes_info_criterion = int\n",
    "    \"\"\"\n",
    "    \n",
    "    # BIC = ln(n)k -2ln(L)\n",
    "    m = X.shape[0]\n",
    "    n = X.shape[1]\n",
    "    L = likelihood(X, PI, MU, SIGMA, k)\n",
    "    k_n_size = k * n\n",
    "    image_size = m * n\n",
    "    \n",
    "    BIC = np.log(image_size) * k_n_size -2*L \n",
    "    #print(\"BIC: \", BIC)\n",
    "    \n",
    "    return BIC\n",
    "\n",
    "\n",
    "########## DON'T WRITE ANY CODE OUTSIDE THE FUNCTION! ################\n",
    "##### CODE BELOW IS USED FOR RUNNING LOCAL TEST DON'T MODIFY IT ######\n",
    "tests.GMMTests().test_bayes_info(bayes_info_criterion)\n",
    "################ END OF LOCAL TEST CODE SECTION ######################"
   ]
  },
  {
   "cell_type": "markdown",
   "metadata": {},
   "source": [
    "## Part 4b: Test BIC\n",
    "\n",
    "Use the BIC and likelihood to determine the optimal number of components in the `bird_color_24` image."
   ]
  },
  {
   "cell_type": "code",
   "execution_count": null,
   "metadata": {
    "tags": [
     "graded"
    ]
   },
   "outputs": [],
   "source": [
    "def BIC_likelihood_model_test():\n",
    "    \"\"\"Test to compare the\n",
    "    models with the lowest BIC\n",
    "    and the highest likelihood.\n",
    "\n",
    "    returns:\n",
    "    n_comp_min_bic = int\n",
    "    n_comp_max_likelihood = int\n",
    "\n",
    "    for testing purposes:\n",
    "    comp_means = [\n",
    "        np.array([[0.67644833, 0.63705593, 0.34151605],\n",
    "               [0.82106333, 0.803725  , 0.38302438]]),\n",
    "        np.array([[0.67644833, 0.63705593, 0.34151605],\n",
    "               [0.82106333, 0.803725  , 0.38302438],\n",
    "               [0.48719558, 0.43396747, 0.57330976]]),\n",
    "        np.array([[0.67644833, 0.63705593, 0.34151605],\n",
    "               [0.82106333, 0.803725  , 0.38302438],\n",
    "               [0.48719558, 0.43396747, 0.57330976],\n",
    "               [0.37512508, 0.7997302 , 0.64795305]]),\n",
    "        np.array([[0.67644833, 0.63705593, 0.34151605],\n",
    "               [0.82106333, 0.803725  , 0.38302438],\n",
    "               [0.48719558, 0.43396747, 0.57330976],\n",
    "               [0.37512508, 0.7997302 , 0.64795305],\n",
    "               [0.14751079, 0.351123  , 0.75471674]]),\n",
    "        np.array([[0.67644833, 0.63705593, 0.34151605],\n",
    "               [0.82106333, 0.803725  , 0.38302438],\n",
    "               [0.48719558, 0.43396747, 0.57330976],\n",
    "               [0.37512508, 0.7997302 , 0.64795305],\n",
    "               [0.14751079, 0.351123  , 0.75471674],\n",
    "               [0.56489468, 0.87895182, 0.25817842]]),\n",
    "        np.array([[0.67644833, 0.63705593, 0.34151605],\n",
    "               [0.82106333, 0.803725  , 0.38302438],\n",
    "               [0.48719558, 0.43396747, 0.57330976],\n",
    "               [0.37512508, 0.7997302 , 0.64795305],\n",
    "               [0.14751079, 0.351123  , 0.75471674],\n",
    "               [0.56489468, 0.87895182, 0.25817842],\n",
    "               [0.08769436, 0.80069854, 0.50162118]])\n",
    "        ]\n",
    "    \"\"\"\n",
    "\n",
    "    #raise NotImplementedError()\n",
    "    #print(\"start\")\n",
    "    BICs = []\n",
    "    likelihoods = []\n",
    "    for mean in comp_means:\n",
    "        #print(\"mean: \", mean)\n",
    "        MU, SIGMA, PI, r = train_model_improved(X, k, new_convergence_function, initial_values = mean)\n",
    "        this_BIC = bayes_info_criterion(X, PI, MU, SIGMA, k)\n",
    "        this_likelihood = likelihood(X, PI, MU, SIGMA, k)\n",
    "        BICs.append(this_BIC)\n",
    "        likelihoods.append(this_likelihood)\n",
    "    n_comp_min_bic = comp_means[np.argmin(BICs)].shape[0]\n",
    "    n_comp_max_likelihood = comp_means[np.argmax(likelihoods)].shape[0]\n",
    "    #print(n_comp_min_bic, n_comp_max_likelihood)\n",
    "    \n",
    "    return n_comp_min_bic, n_comp_max_likelihood"
   ]
  },
  {
   "cell_type": "code",
   "execution_count": null,
   "metadata": {
    "tags": [
     "graded"
    ]
   },
   "outputs": [],
   "source": [
    "def BIC_likelihood_question():\n",
    "    \"\"\"\n",
    "    Choose the best number of\n",
    "    components for each metric\n",
    "    (min BIC and maximum likelihood).\n",
    "\n",
    "    returns:\n",
    "    pairs = dict\n",
    "    \"\"\"\n",
    "       \n",
    "    bic = 7 \n",
    "    likelihood = 7\n",
    "    #bic, likelihood = BIC_likelihood_model_test() \n",
    "    pairs = {\n",
    "        'BIC': bic,\n",
    "        'likelihood': likelihood\n",
    "    }\n",
    "    return pairs"
   ]
  },
  {
   "cell_type": "code",
   "execution_count": null,
   "metadata": {
    "tags": [
     "graded"
    ]
   },
   "outputs": [],
   "source": [
    "def bonus(points_array, means_array):\n",
    "    \"\"\"\n",
    "    Return the distance from every point in points_array\n",
    "    to every point in means_array.\n",
    "\n",
    "    returns:\n",
    "    dists = numpy array of float\n",
    "    \"\"\"\n",
    "    # TODO: fill in the bonus function\n",
    "    # REMOVE THE LINE BELOW IF ATTEMPTING BONUS\n",
    "    #raise NotImplementedError()\n",
    "    return dists\n",
    "\n",
    "# There are no local test for thus question, fill free to create them yourself.\n",
    "# Feel free to play with it in a separate python file, and then just copy over \n",
    "# your implementation before the submission."
   ]
  },
  {
   "cell_type": "markdown",
   "metadata": {},
   "source": [
    "---"
   ]
  },
  {
   "cell_type": "markdown",
   "metadata": {},
   "source": [
    "## Congrats, you are done with the part of the assignment which is graded\n",
    "### Please follow the instructions in the README to submit your code for grading."
   ]
  },
  {
   "cell_type": "markdown",
   "metadata": {},
   "source": [
    "- - -\n"
   ]
  },
  {
   "cell_type": "markdown",
   "metadata": {},
   "source": [
    "Next is as promised segmentation of the Point Cloud data. \n",
    "\n",
    "In order to run the code below you first need to install an `open3d` library. If you used `pip install -r requirements.txt` command for this assignment, it should already be installed. Else, you can install it `pip install open3d-python` command, if you used virtual environment, make sure to activate it before running the code.\n",
    "\n",
    "You can also refer to official Open3d documentation http://www.open3d.org/docs/getting_started.html for details about the installation and library itself."
   ]
  },
  {
   "cell_type": "markdown",
   "metadata": {},
   "source": [
    "RGBD (**RGB** + **D**epth) data is usually stored as two separated images, one contains RGB (color) information and second one contains only depth, thus is a grayscale image. Let's load a data sample visualize it."
   ]
  },
  {
   "cell_type": "code",
   "execution_count": null,
   "metadata": {},
   "outputs": [],
   "source": [
    "from open3d import * "
   ]
  },
  {
   "cell_type": "code",
   "execution_count": null,
   "metadata": {},
   "outputs": [],
   "source": [
    "# Function below load the data\n",
    "def load_rgbd_image(image_path, depth_path):\n",
    "    color_raw = read_image(image_path)\n",
    "    depth_raw = read_image(depth_path)\n",
    "    #  details about function http://www.open3d.org/docs/tutorial/Basic/rgbd_odometry.html\n",
    "    # We are using a data sample from the SUN RGB-D (http://rgbd.cs.princeton.edu/) dataset\n",
    "    return color_raw, depth_raw\n",
    "\n",
    "# We can plot these images separately using the function below\n",
    "def plot_rgbd(color_image, depth_image):\n",
    "    plt.figure(None,(15,15))\n",
    "    plt.subplot(1, 3, 1)\n",
    "    plt.title('Color image')\n",
    "    plt.imshow(color_image)\n",
    "    plt.subplot(1, 3, 2)\n",
    "    plt.title('SUN depth image')\n",
    "    plt.imshow(depth_image)\n",
    "    plt.show()"
   ]
  },
  {
   "cell_type": "code",
   "execution_count": null,
   "metadata": {
    "scrolled": false
   },
   "outputs": [],
   "source": [
    "import glob\n",
    "rgbd_dataset = glob.glob('rgbd/image/*.jpg') # TODO fix it\n",
    "image_number = 3 # [0,4] there are five different images in the folder\n",
    "\n",
    "image_file = rgbd_dataset[image_number]\n",
    "depth_file = image_file.replace('image','depth')[:-4] + '.png'\n",
    "assert os.path.isfile(image_file); \n",
    "assert os.path.isfile(depth_file);\n",
    "color_image, depth_image = load_rgbd_image(image_file, depth_file)\n",
    "plot_rgbd(color_image, depth_image)"
   ]
  },
  {
   "cell_type": "code",
   "execution_count": null,
   "metadata": {},
   "outputs": [],
   "source": [
    "# Next we can convert the depth image into a point cloud \n",
    "def show_point_cloud(color_raw, depth_raw):\n",
    "    rgbd_image = create_rgbd_image_from_sun_format(color_raw, depth_raw);\n",
    "    pcd = create_point_cloud_from_rgbd_image(rgbd_image, \n",
    "                 PinholeCameraIntrinsic(PinholeCameraIntrinsicParameters.PrimeSenseDefault))\n",
    "    # Flip it, otherwise the pointcloud will be upside down\n",
    "    pcd.transform([[1, 0, 0, 0], [0, -1, 0, 0], [0, 0, -1, 0], [0, 0, 0, 1]])\n",
    "    draw_geometries([pcd])\n",
    "    return pcd"
   ]
  },
  {
   "cell_type": "code",
   "execution_count": null,
   "metadata": {},
   "outputs": [],
   "source": [
    "pcd = show_point_cloud(color_image, depth_image)"
   ]
  },
  {
   "cell_type": "code",
   "execution_count": null,
   "metadata": {},
   "outputs": [],
   "source": [
    "# Lets have a look at the structure of the point cloud data\n",
    "pcd_points = np.asarray(pcd.points)\n",
    "print(\"Point cloud data - shape:\", pcd_points.shape)"
   ]
  },
  {
   "cell_type": "markdown",
   "metadata": {},
   "source": [
    "Point cloud data is represented as an unsorted set of the size M x N., where M is the number of points and N is the x,y,z value for each point. If you are interested you can access the color data in `pcd.colors`."
   ]
  },
  {
   "cell_type": "markdown",
   "metadata": {},
   "source": [
    "Let us try to perform a segmentation on the image we just loaded."
   ]
  },
  {
   "cell_type": "code",
   "execution_count": null,
   "metadata": {},
   "outputs": [],
   "source": [
    "# Setting the number of clusters\n",
    "K = 5\n",
    "# Note: it's just a simple train model run\n",
    "# To improve it you can adapt the best_segment() \n",
    "# to generate the clusters with the best model\n",
    "initial_params = initialize_parameters(pcd_points, K)\n",
    "MU, SIGMA, PI, r = train_model(pcd_points, K,\n",
    "                               convergence_function=default_convergence,\n",
    "                               initial_values=initial_params)\n",
    "clusters = cluster(r)"
   ]
  },
  {
   "cell_type": "code",
   "execution_count": null,
   "metadata": {},
   "outputs": [],
   "source": [
    "# Generate a set of size K of distinct color to plot the clusters\n",
    "# Adapted from https://stackoverflow.com/questions/876853/generating-color-ranges-in-python\n",
    "import colorsys\n",
    "HSV_tuples = [(x*1.0/K, 1.0, 1.0) for x in range(K)]\n",
    "color_maps = list(map(lambda x: colorsys.hsv_to_rgb(*x), HSV_tuples))"
   ]
  },
  {
   "cell_type": "markdown",
   "metadata": {},
   "source": [
    "### Visualizing the segmented point cloud data!"
   ]
  },
  {
   "cell_type": "code",
   "execution_count": null,
   "metadata": {},
   "outputs": [],
   "source": [
    "or_pcd = PointCloud() # Create new point cloud handler\n",
    "or_pcd.points = Vector3dVector(pcd_points) # set point cloud data\n",
    "colors = np.zeros_like(pcd_points) # initialize colors to 0\n",
    "for i, point in enumerate(np.unique(clusters)):\n",
    "    random_color = color_maps[i]\n",
    "    cluster_mask = (clusters == point) # get the mask of the cluster i\n",
    "    colors[cluster_mask,:] = random_color # set random color to all the point of this segment\n",
    "or_pcd.colors = Vector3dVector(colors) # set color data\n",
    "draw_geometries([or_pcd]) # visualize point cloud"
   ]
  },
  {
   "cell_type": "markdown",
   "metadata": {},
   "source": [
    "Some questions to think about:\n",
    "- Would adding a color help or harm the segmentation results?\n",
    "- How about the case: segment RGB data -> add depth -> convert to Point Cloud -> cluster? Would that help/harm?\n",
    "- Could you think of a way you could compress the point cloud data?\n",
    "\n",
    "Things to try:\n",
    "- Segmentation here is done in purely unsupervised manner, you could manually combine multiple gaussian\n",
    "- How about merging multiple scenes into a single one? You could crop one segment from one scene and place it inside another scene.\n",
    "- Try K-means on point cloud data and see what results does it produces\n",
    "- Can we omit the step of conversion to point cloud? And use depth only? Or depth with x,y coordinates?"
   ]
  },
  {
   "cell_type": "markdown",
   "metadata": {},
   "source": [
    "### ~END~"
   ]
  }
 ],
 "metadata": {
  "kernelspec": {
   "display_name": "Python 3 (ipykernel)",
   "language": "python",
   "name": "python3"
  },
  "language_info": {
   "codemirror_mode": {
    "name": "ipython",
    "version": 3
   },
   "file_extension": ".py",
   "mimetype": "text/x-python",
   "name": "python",
   "nbconvert_exporter": "python",
   "pygments_lexer": "ipython3",
   "version": "3.10.8"
  }
 },
 "nbformat": 4,
 "nbformat_minor": 2
}
